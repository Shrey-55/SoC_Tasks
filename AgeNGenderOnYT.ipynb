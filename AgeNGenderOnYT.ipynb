{
  "nbformat": 4,
  "nbformat_minor": 0,
  "metadata": {
    "colab": {
      "name": "AgeNGenderOnYT.ipynb",
      "provenance": []
    },
    "kernelspec": {
      "name": "python3",
      "display_name": "Python 3"
    },
    "language_info": {
      "name": "python"
    }
  },
  "cells": [
    {
      "cell_type": "code",
      "metadata": {
        "colab": {
          "base_uri": "https://localhost:8080/"
        },
        "id": "NqrgMLn4c0ui",
        "outputId": "c135631d-fd7e-44eb-9e9e-8a65036ceabd"
      },
      "source": [
        "# To install libraries required for loading youtube videos\n",
        "!pip install pafy\n",
        "!pip install youtube-dl "
      ],
      "execution_count": null,
      "outputs": [
        {
          "output_type": "stream",
          "text": [
            "Requirement already satisfied: pafy in /usr/local/lib/python3.7/dist-packages (0.5.5)\n",
            "Requirement already satisfied: youtube-dl in /usr/local/lib/python3.7/dist-packages (2021.6.6)\n"
          ],
          "name": "stdout"
        }
      ]
    },
    {
      "cell_type": "code",
      "metadata": {
        "colab": {
          "base_uri": "https://localhost:8080/"
        },
        "id": "ZJ_4Vgv_c2vm",
        "outputId": "681fe09e-702f-4bb9-8ea7-65d25dfca441"
      },
      "source": [
        "# Mounting drive\n",
        "from google.colab import drive\n",
        "drive.mount('/content/drive')"
      ],
      "execution_count": null,
      "outputs": [
        {
          "output_type": "stream",
          "text": [
            "Drive already mounted at /content/drive; to attempt to forcibly remount, call drive.mount(\"/content/drive\", force_remount=True).\n"
          ],
          "name": "stdout"
        }
      ]
    },
    {
      "cell_type": "code",
      "metadata": {
        "id": "dIXEpUbVdGf6"
      },
      "source": [
        "import os\n",
        "#path for models\n",
        "path = '/content/drive/MyDrive/SoC-facerecog/models'\n",
        "\n",
        "#Give path for output directory where you want the processed video\n",
        "output_dir = '/content/drive/MyDrive/SoC-facerecog'"
      ],
      "execution_count": null,
      "outputs": []
    },
    {
      "cell_type": "code",
      "metadata": {
        "colab": {
          "base_uri": "https://localhost:8080/"
        },
        "id": "rWoALz3_eeCn",
        "outputId": "780ff157-5ef7-43bc-c4fe-3d74025e5136"
      },
      "source": [
        "import cv2\n",
        "import numpy as np\n",
        "import pafy\n",
        "import time\n",
        "\n",
        "# cv2.imshow doesn't work in colab hence cv2_imshow(image) would have to be done\n",
        "from google.colab.patches import cv2_imshow\n",
        "\n",
        "# Would run the video processing code for n seconds only\n",
        "n = 2\n",
        "\n",
        "# Setting up output video writer\n",
        "fourcc = cv2.VideoWriter_fourcc(*'XVID')\n",
        "w, h = 1280,720\n",
        "fourcc = cv2.VideoWriter_fourcc('m', 'p', '4', 'v')\n",
        "output_fps = 30\n",
        "output_movie = cv2.VideoWriter(os.path.join(output_dir,'output_video.avi'), fourcc, output_fps, (w, h))\n",
        "\n",
        "#url of the video to predict Age and gender\n",
        "url = 'https://www.youtube.com/watch?v=iH1ZJVqJO3Y'\n",
        "vPafy = pafy.new(url)\n",
        "play = vPafy.getbest(preftype=\"mp4\")\n",
        "\n",
        "# Capturing youtube video\n",
        "cap = cv2.VideoCapture(play.url)\n",
        "\n",
        "cap.set(3, 480) #set width of the frame\n",
        "cap.set(4, 640) #set height of the frame\n",
        "\n",
        "# Pretrained model mean values\n",
        "MODEL_MEAN_VALUES = (78.4263377603, 87.7689143744, 114.895847746)\n",
        "\n",
        "# Setting the same age and gender ranges as that of pre trianed model\n",
        "age_list = ['(0, 2)', '(4, 6)', '(8, 12)', '(15, 20)', '(25, 32)', '(38, 43)', '(48, 53)', '(60, 100)']\n",
        "\n",
        "gender_list = ['Male', 'Female']\n",
        "\n",
        "# Functions to load models\n",
        "def load_caffe_models():\n",
        " \n",
        "  age_net = cv2.dnn.readNetFromCaffe(os.path.join(path,'age_deploy.prototxt'), os.path.join(path,'age_net.caffemodel'))\n",
        "\n",
        "  gender_net = cv2.dnn.readNetFromCaffe(os.path.join(path,'gender_deploy.prototxt'), os.path.join(path,'gender_net.caffemodel'))\n",
        "\n",
        "  return (age_net, gender_net)\n",
        "\n",
        "# Function to detetct age and gender\n",
        "\n",
        "def video_detector(age_net, gender_net):\n",
        "  # Selecting cv2 font to write on the video\n",
        "  font = cv2.FONT_HERSHEY_SIMPLEX\n",
        "  framecount = 0\n",
        "\n",
        "  # Ending the loop when frames in output video are n*FPS (for e.g. 10*30=300)\n",
        "  while framecount < n*output_fps:\n",
        "\n",
        "      ret, image = cap.read()\n",
        "      framecount = framecount+1\n",
        "\n",
        "      face_cascade = cv2.CascadeClassifier(cv2.data.haarcascades + 'haarcascade_frontalface_alt.xml')\n",
        "      eye_cascade = cv2.CascadeClassifier(cv2.data.haarcascades + 'haarcascade_eye.xml')\n",
        "    \n",
        "      gray = cv2.cvtColor(image, cv2.COLOR_BGR2GRAY)\n",
        "\n",
        "      faces = face_cascade.detectMultiScale(gray, 1.1, 5)\n",
        "\n",
        "      for (x, y, w, h )in faces:\n",
        "        cv2.rectangle(image, (x, y), (x+w, y+h), (255, 255, 0), 2)\n",
        "\n",
        "      #Get Face \n",
        "        face_img = image[y:y+h, h:h+w].copy()\n",
        "        blob = cv2.dnn.blobFromImage(face_img, 1, (227, 227), MODEL_MEAN_VALUES, swapRB=False)\n",
        "\n",
        "      #Predict Gender\n",
        "        gender_net.setInput(blob)\n",
        "        gender_preds = gender_net.forward()\n",
        "        gender = gender_list[gender_preds[0].argmax()]\n",
        "        #print(\"Gender : \" + gender)\n",
        "\n",
        "      #Predict Age\n",
        "        age_net.setInput(blob)\n",
        "        age_preds = age_net.forward()\n",
        "        age = age_list[age_preds[0].argmax()]\n",
        "        #print(\"Age Range: \" + age)\n",
        "\n",
        "        overlay_text = \"%s %s\" % (gender, age)\n",
        "        cv2.putText(image, overlay_text, (x, y), font, 1, (255, 255, 255), 2, cv2.LINE_AA)\n",
        "      output_movie.write(image)\n",
        "  output_movie.release()\n",
        "  print(framecount)\n",
        "\n",
        "# Running made functions\n",
        "age_net, gender_net = load_caffe_models()\n",
        "\n",
        "video_detector(age_net, gender_net)"
      ],
      "execution_count": null,
      "outputs": [
        {
          "output_type": "stream",
          "text": [
            "60\n"
          ],
          "name": "stdout"
        }
      ]
    },
    {
      "cell_type": "code",
      "metadata": {
        "id": "8XC2PYvSjoOG"
      },
      "source": [
        ""
      ],
      "execution_count": null,
      "outputs": []
    }
  ]
}